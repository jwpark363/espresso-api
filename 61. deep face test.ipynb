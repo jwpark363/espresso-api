{
 "cells": [
  {
   "cell_type": "code",
   "execution_count": 1,
   "id": "f7a05dd8",
   "metadata": {},
   "outputs": [
    {
     "name": "stdout",
     "output_type": "stream",
     "text": [
      "WARNING:tensorflow:From c:\\mywinproject\\myfusion_jam\\expresso\\.venv\\Lib\\site-packages\\tf_keras\\src\\losses.py:2976: The name tf.losses.sparse_softmax_cross_entropy is deprecated. Please use tf.compat.v1.losses.sparse_softmax_cross_entropy instead.\n",
      "\n",
      "25-09-25 20:10:16 - Directory C:\\Users\\user\\.deepface has been created\n",
      "25-09-25 20:10:16 - Directory C:\\Users\\user\\.deepface\\weights has been created\n"
     ]
    }
   ],
   "source": [
    "from deepface import DeepFace"
   ]
  },
  {
   "cell_type": "code",
   "execution_count": 8,
   "id": "018d5ee3",
   "metadata": {},
   "outputs": [
    {
     "name": "stdout",
     "output_type": "stream",
     "text": [
      "1001.jpg\n",
      "[{'emotion': {'angry': 3.5691628864830943e-09, 'disgust': 1.0907418612471809e-14, 'fear': 7.139715026344731e-10, 'happy': 99.99977946280119, 'sad': 1.8388314971074118e-10, 'surprise': 8.976007972334175e-09, 'neutral': 0.00022176883661253894}, 'dominant_emotion': 'happy', 'region': {'x': 428, 'y': 312, 'w': 518, 'h': 518, 'left_eye': (785, 509), 'right_eye': (590, 513)}, 'face_confidence': 0.9}]\n",
      "2001.jpg\n",
      "[{'emotion': {'angry': 12.994366168640028, 'disgust': 5.448525013957383e-05, 'fear': 23.80590878760271, 'happy': 0.1126374417997862, 'sad': 60.04311800260055, 'surprise': 1.438184435111832e-07, 'neutral': 3.0439136501499204}, 'dominant_emotion': 'sad', 'region': {'x': 418, 'y': 189, 'w': 550, 'h': 550, 'left_eye': (789, 388), 'right_eye': (693, 619)}, 'face_confidence': 0.96}]\n",
      "3001.jpg\n",
      "[{'emotion': {'angry': 90.67054986953735, 'disgust': 9.033370018005371, 'fear': 0.2592258155345917, 'happy': 0.0006373014002747368, 'sad': 0.03125147195532918, 'surprise': 0.004554681072477251, 'neutral': 0.00041231883187720086}, 'dominant_emotion': 'angry', 'region': {'x': 440, 'y': 211, 'w': 497, 'h': 497, 'left_eye': (783, 398), 'right_eye': (598, 391)}, 'face_confidence': 0.95}]\n",
      "4001.jpg\n",
      "[{'emotion': {'angry': 2.0236216485500336, 'disgust': 8.716299682021145e-07, 'fear': 1.582525484263897, 'happy': 1.4035977713433567e-06, 'sad': 93.3725357055664, 'surprise': 2.707590951445127e-06, 'neutral': 3.021317720413208}, 'dominant_emotion': 'sad', 'region': {'x': 501, 'y': 213, 'w': 497, 'h': 497, 'left_eye': (840, 412), 'right_eye': (647, 409)}, 'face_confidence': 0.88}]\n"
     ]
    }
   ],
   "source": [
    "images = ['1001.jpg','2001.jpg','3001.jpg','4001.jpg']\n",
    "for img in images:\n",
    "    print(img)\n",
    "    result = DeepFace.analyze(img_path = f\"./datasets/images/{img}\",\n",
    "                         actions = ['emotion'])\n",
    "    print(result)"
   ]
  },
  {
   "cell_type": "code",
   "execution_count": 9,
   "id": "e679aa46",
   "metadata": {},
   "outputs": [
    {
     "data": {
      "text/plain": [
       "[{'emotion': {'angry': 3.5691628864830943e-09,\n",
       "   'disgust': 1.0907418612471809e-14,\n",
       "   'fear': 7.139715026344731e-10,\n",
       "   'happy': 99.99977946280119,\n",
       "   'sad': 1.8388314971074118e-10,\n",
       "   'surprise': 8.976007972334175e-09,\n",
       "   'neutral': 0.00022176883661253894},\n",
       "  'dominant_emotion': 'happy',\n",
       "  'region': {'x': 428,\n",
       "   'y': 312,\n",
       "   'w': 518,\n",
       "   'h': 518,\n",
       "   'left_eye': (785, 509),\n",
       "   'right_eye': (590, 513)},\n",
       "  'face_confidence': 0.9}]"
      ]
     },
     "execution_count": 9,
     "metadata": {},
     "output_type": "execute_result"
    }
   ],
   "source": [
    "DeepFace.analyze(img_path = f\"./datasets/images/1001.jpg\",\n",
    "                         actions = ['emotion'])"
   ]
  },
  {
   "cell_type": "code",
   "execution_count": null,
   "id": "7fe4922a",
   "metadata": {},
   "outputs": [],
   "source": []
  }
 ],
 "metadata": {
  "kernelspec": {
   "display_name": "expresso",
   "language": "python",
   "name": "python3"
  },
  "language_info": {
   "codemirror_mode": {
    "name": "ipython",
    "version": 3
   },
   "file_extension": ".py",
   "mimetype": "text/x-python",
   "name": "python",
   "nbconvert_exporter": "python",
   "pygments_lexer": "ipython3",
   "version": "3.11.13"
  }
 },
 "nbformat": 4,
 "nbformat_minor": 5
}
