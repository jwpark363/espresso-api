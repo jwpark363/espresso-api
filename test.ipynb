{
 "cells": [
  {
   "cell_type": "code",
   "execution_count": null,
   "id": "e386d80a",
   "metadata": {},
   "outputs": [],
   "source": [
    "dd = {1:'abc', 2:'ddd'}"
   ]
  },
  {
   "cell_type": "code",
   "execution_count": null,
   "id": "2a848e70",
   "metadata": {},
   "outputs": [],
   "source": [
    "len(dd)"
   ]
  },
  {
   "cell_type": "code",
   "execution_count": null,
   "id": "2be0c7db",
   "metadata": {},
   "outputs": [],
   "source": [
    "from enum import Enum\n",
    "class ReceiveMessage:\n",
    "    def __init__(self) -> None:\n",
    "        self.stage = 0\n",
    "        self.image = 0\n"
   ]
  },
  {
   "cell_type": "code",
   "execution_count": null,
   "id": "feb090f9",
   "metadata": {},
   "outputs": [],
   "source": [
    "msg = chat_message.message(ChatCode.SYSTEM,'message')"
   ]
  },
  {
   "cell_type": "code",
   "execution_count": null,
   "id": "d0c01bcc",
   "metadata": {},
   "outputs": [],
   "source": [
    "msg"
   ]
  },
  {
   "cell_type": "code",
   "execution_count": null,
   "id": "ff297026",
   "metadata": {},
   "outputs": [],
   "source": [
    "import json\n",
    "json.dumps(msg)"
   ]
  },
  {
   "cell_type": "code",
   "execution_count": null,
   "id": "c4a4a175",
   "metadata": {},
   "outputs": [],
   "source": [
    "import random\n",
    "\n",
    "GAME_EMOTIONS = ['분노','경멸','혐오','두려움','행복','보통','슬픔','놀람']\n",
    "\n",
    "class GameStage:\n",
    "    def __init__(self, step=3) -> None:\n",
    "        game_stage = GAME_EMOTIONS.copy()\n",
    "        random.shuffle(game_stage)\n",
    "        self.stage = game_stage[:step]\n",
    "        self.current_step = 0\n",
    "    \n",
    "    def __iter__(self):\n",
    "        return self\n",
    "        # for step,stage in enumerate(self.stage):\n",
    "        #     yield step+1,stage\n",
    "    def __next__(self):\n",
    "        current_step = self.current_step\n",
    "        if self.current_step >= len(self.stage):\n",
    "            raise StopIteration\n",
    "        self.current_step = self.current_step + 1\n",
    "        return current_step, self.stage[current_step]\n",
    "    def __getitem__(self, index):\n",
    "        return self.stage[index]"
   ]
  },
  {
   "cell_type": "code",
   "execution_count": null,
   "id": "dd869cb1",
   "metadata": {},
   "outputs": [],
   "source": [
    "gamestage = GameStage(3)\n",
    "for stage in gamestage:\n",
    "    print(stage)"
   ]
  },
  {
   "cell_type": "code",
   "execution_count": null,
   "id": "84cea786",
   "metadata": {},
   "outputs": [],
   "source": [
    "gamestage[0]"
   ]
  },
  {
   "cell_type": "code",
   "execution_count": null,
   "id": "d668e19d",
   "metadata": {},
   "outputs": [],
   "source": [
    "gamestage.current_step"
   ]
  },
  {
   "cell_type": "code",
   "execution_count": 1,
   "id": "455f0858",
   "metadata": {},
   "outputs": [],
   "source": [
    "from lib.emotiefflib import emotion_from_file, softmax,argmax"
   ]
  },
  {
   "cell_type": "code",
   "execution_count": 2,
   "id": "bf350866",
   "metadata": {},
   "outputs": [
    {
     "data": {
      "text/plain": [
       "([[-14.843379020690918,\n",
       "   -6.269833087921143,\n",
       "   -14.141788482666016,\n",
       "   -12.489651679992676,\n",
       "   8.28011703491211,\n",
       "   -5.79323148727417,\n",
       "   -9.968262672424316,\n",
       "   -6.434717655181885]],\n",
       " ['분노', '경멸', '혐오', '두려움', '행복', '보통', '슬픔', '놀람'])"
      ]
     },
     "execution_count": 2,
     "metadata": {},
     "output_type": "execute_result"
    }
   ],
   "source": [
    "image = './datasets/images/1001.jpg'\n",
    "score, cls = emotion_from_file(image)\n",
    "score, cls"
   ]
  },
  {
   "cell_type": "code",
   "execution_count": 3,
   "id": "ceff6e77",
   "metadata": {},
   "outputs": [
    {
     "data": {
      "text/plain": [
       "[0.0,\n",
       " 0.3707720455485506,\n",
       " 0.030341023534583594,\n",
       " 0.10178942384137944,\n",
       " 1.0,\n",
       " 0.39138318494983015,\n",
       " 0.21082955347858473,\n",
       " 0.36364143835730844]"
      ]
     },
     "execution_count": 3,
     "metadata": {},
     "output_type": "execute_result"
    }
   ],
   "source": [
    "softmax(score[0])"
   ]
  },
  {
   "cell_type": "code",
   "execution_count": null,
   "id": "afed4b99",
   "metadata": {},
   "outputs": [],
   "source": [
    "argmax(softmax(score[0]))"
   ]
  },
  {
   "cell_type": "code",
   "execution_count": null,
   "id": "dbc52b18",
   "metadata": {},
   "outputs": [],
   "source": []
  }
 ],
 "metadata": {
  "kernelspec": {
   "display_name": "expresso",
   "language": "python",
   "name": "python3"
  },
  "language_info": {
   "codemirror_mode": {
    "name": "ipython",
    "version": 3
   },
   "file_extension": ".py",
   "mimetype": "text/x-python",
   "name": "python",
   "nbconvert_exporter": "python",
   "pygments_lexer": "ipython3",
   "version": "3.11.13"
  }
 },
 "nbformat": 4,
 "nbformat_minor": 5
}
