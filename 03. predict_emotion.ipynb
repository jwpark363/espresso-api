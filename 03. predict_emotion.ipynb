{
 "cells": [
  {
   "cell_type": "markdown",
   "id": "0f9c421d",
   "metadata": {},
   "source": [
    "### Emotiefflib 이용 감정 분석"
   ]
  },
  {
   "cell_type": "code",
   "execution_count": null,
   "id": "e9a67ee8",
   "metadata": {},
   "outputs": [],
   "source": [
    "from typing import List\n",
    "import cv2\n",
    "import matplotlib.pyplot as plt\n",
    "import numpy as np\n",
    "from facenet_pytorch import MTCNN\n",
    "from emotiefflib.facial_analysis import EmotiEffLibRecognizer, get_model_list\n",
    "def recognize_faces(frame: np.ndarray, device: str) -> List[np.ndarray]:\n",
    "    def detect_face(frame: np.ndarray):\n",
    "        mtcnn = MTCNN(keep_all=False, post_process=False, min_face_size=40, device=device)\n",
    "        bounding_boxes, probs = mtcnn.detect(frame, landmarks=False)\n",
    "        if probs[0] is None:\n",
    "            return []\n",
    "        bounding_boxes = bounding_boxes[probs > 0.9]\n",
    "        return bounding_boxes\n",
    "\n",
    "    bounding_boxes = detect_face(frame)\n",
    "    facial_images = []\n",
    "    for bbox in bounding_boxes:\n",
    "        box = bbox.astype(int)\n",
    "        x1, y1, x2, y2 = box[0:4]\n",
    "        facial_images.append(frame[y1:y2, x1:x2, :])\n",
    "    return facial_images"
   ]
  },
  {
   "cell_type": "code",
   "execution_count": 45,
   "id": "65cda19e",
   "metadata": {},
   "outputs": [],
   "source": [
    "def emotion(image_path:str):\n",
    "    emotion_class = ['분노','경멸','혐오','두려움','행복','보통','슬픔','놀람']\n",
    "    device = \"cpu\"\n",
    "    model_name = get_model_list()[0]\n",
    "    frame_bgr = cv2.imread(image_path)\n",
    "    frame = cv2.cvtColor(frame_bgr, cv2.COLOR_BGR2RGB)\n",
    "    facial_images = recognize_faces(frame, device)\n",
    "    fer = EmotiEffLibRecognizer(engine=\"onnx\", model_name=model_name, device=device)\n",
    "\n",
    "    emotions = []\n",
    "    for face_img in facial_images:\n",
    "        emotion, test = fer.predict_emotions(face_img, logits=True)\n",
    "        emotions.append(test[0].tolist())\n",
    "        # print(emotion,test)\n",
    "    return emotions, emotion_class\n",
    "def softmax(lst):\n",
    "    min_val = min(lst)\n",
    "    max_val = max(lst)\n",
    "    if max_val == min_val:\n",
    "        return [0.0 for _ in lst]  # 모든 값이 같을 경우 0으로 처리\n",
    "    return [(x - min_val) / (max_val - min_val) for x in lst]"
   ]
  },
  {
   "cell_type": "code",
   "execution_count": 37,
   "id": "c0c9476d",
   "metadata": {},
   "outputs": [],
   "source": [
    "image = './datasets/images/4001.jpg'\n",
    "emo, cls = emotion(image)"
   ]
  },
  {
   "cell_type": "code",
   "execution_count": 39,
   "id": "c198cb40",
   "metadata": {},
   "outputs": [
    {
     "data": {
      "text/plain": [
       "[1.2283426523208618,\n",
       " -2.95230770111084,\n",
       " 0.41483330726623535,\n",
       " 3.835360288619995,\n",
       " -5.456241130828857,\n",
       " 0.8360392451286316,\n",
       " 5.4043192863464355,\n",
       " 0.5669528245925903]"
      ]
     },
     "execution_count": 39,
     "metadata": {},
     "output_type": "execute_result"
    }
   ],
   "source": [
    "emo[0]"
   ]
  },
  {
   "cell_type": "code",
   "execution_count": 40,
   "id": "a60f1f71",
   "metadata": {},
   "outputs": [
    {
     "data": {
      "text/plain": [
       "['분노', '경멸', '혐오', '두려움', '행복', '보통', '슬픔', '놀람']"
      ]
     },
     "execution_count": 40,
     "metadata": {},
     "output_type": "execute_result"
    }
   ],
   "source": [
    "cls"
   ]
  },
  {
   "cell_type": "code",
   "execution_count": 43,
   "id": "ded23531",
   "metadata": {},
   "outputs": [],
   "source": [
    "def softmax(lst):\n",
    "    min_val = min(lst)\n",
    "    max_val = max(lst)\n",
    "    if max_val == min_val:\n",
    "        return [0.0 for _ in lst]  # 모든 값이 같을 경우 0으로 처리\n",
    "    return [(x - min_val) / (max_val - min_val) for x in lst]"
   ]
  },
  {
   "cell_type": "code",
   "execution_count": 44,
   "id": "e104a87b",
   "metadata": {},
   "outputs": [
    {
     "data": {
      "text/plain": [
       "[0.6154916069136239,\n",
       " 0.23055287513139786,\n",
       " 0.5405866928202303,\n",
       " 0.8555360922954556,\n",
       " 0.0,\n",
       " 0.5793697686177082,\n",
       " 1.0,\n",
       " 0.5545932920640214]"
      ]
     },
     "execution_count": 44,
     "metadata": {},
     "output_type": "execute_result"
    }
   ],
   "source": [
    "softmax(emo[0])"
   ]
  },
  {
   "cell_type": "code",
   "execution_count": null,
   "id": "51eb0f3b",
   "metadata": {},
   "outputs": [],
   "source": []
  }
 ],
 "metadata": {
  "kernelspec": {
   "display_name": "expresso",
   "language": "python",
   "name": "python3"
  },
  "language_info": {
   "codemirror_mode": {
    "name": "ipython",
    "version": 3
   },
   "file_extension": ".py",
   "mimetype": "text/x-python",
   "name": "python",
   "nbconvert_exporter": "python",
   "pygments_lexer": "ipython3",
   "version": "3.11.13"
  }
 },
 "nbformat": 4,
 "nbformat_minor": 5
}
