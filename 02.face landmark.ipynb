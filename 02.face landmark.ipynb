{
 "cells": [
  {
   "cell_type": "code",
   "execution_count": 1,
   "id": "73284a66",
   "metadata": {},
   "outputs": [],
   "source": [
    "from lib.landmark_util import face_landmark_from_file, make_landmark_image\n",
    "import cv2\n",
    "import matplotlib.pyplot as plt"
   ]
  },
  {
   "cell_type": "code",
   "execution_count": 2,
   "id": "42eb8bef",
   "metadata": {},
   "outputs": [
    {
     "data": {
      "text/plain": [
       "[{'id': 0, 'x': 513, 'y': 377},\n",
       " {'id': 1, 'x': 515, 'y': 344},\n",
       " {'id': 2, 'x': 513, 'y': 352}]"
      ]
     },
     "execution_count": 2,
     "metadata": {},
     "output_type": "execute_result"
    }
   ],
   "source": [
    "image_file = './datasets/images/business-person.png'\n",
    "face_points = face_landmark_from_file(image_file)\n",
    "points = face_points['landmark']\n",
    "points[:3]"
   ]
  },
  {
   "cell_type": "code",
   "execution_count": 4,
   "id": "7d34908a",
   "metadata": {},
   "outputs": [
    {
     "data": {
      "text/plain": [
       "True"
      ]
     },
     "execution_count": 4,
     "metadata": {},
     "output_type": "execute_result"
    }
   ],
   "source": [
    "image = cv2.imread(image_file)\n",
    "landmark_image = make_landmark_image(image)\n",
    "cv2.imwrite('landmark_image.png',landmark_image)"
   ]
  },
  {
   "cell_type": "code",
   "execution_count": null,
   "id": "4af6d424",
   "metadata": {},
   "outputs": [],
   "source": [
    "image = cv2.imread(image_file)\n",
    "# image = cv2.cvtColor(image,4)\n",
    "for point in points:\n",
    "    cv2.circle(image,[point['x'],point['y']],1,(0,0,255),1)\n",
    "plt.figure(figsize=(6,10))\n",
    "plt.imshow(cv2.cvtColor(image,4))\n",
    "plt.axis('off')\n",
    "plt.show()"
   ]
  },
  {
   "cell_type": "code",
   "execution_count": null,
   "id": "d251b08d",
   "metadata": {},
   "outputs": [],
   "source": [
    "import json\n",
    "with open('face_landmarks.json','w') as f:\n",
    "    json.dump(face_points,f,indent=4)"
   ]
  },
  {
   "cell_type": "code",
   "execution_count": null,
   "id": "fbf82c1d",
   "metadata": {},
   "outputs": [],
   "source": [
    "face_points"
   ]
  },
  {
   "cell_type": "code",
   "execution_count": null,
   "id": "58a0313e",
   "metadata": {},
   "outputs": [],
   "source": []
  }
 ],
 "metadata": {
  "kernelspec": {
   "display_name": "expresso",
   "language": "python",
   "name": "python3"
  },
  "language_info": {
   "codemirror_mode": {
    "name": "ipython",
    "version": 3
   },
   "file_extension": ".py",
   "mimetype": "text/x-python",
   "name": "python",
   "nbconvert_exporter": "python",
   "pygments_lexer": "ipython3",
   "version": "3.11.13"
  }
 },
 "nbformat": 4,
 "nbformat_minor": 5
}
